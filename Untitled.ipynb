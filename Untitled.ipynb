{
 "cells": [
  {
   "cell_type": "code",
   "execution_count": 1,
   "metadata": {},
   "outputs": [
    {
     "name": "stdout",
     "output_type": "stream",
     "text": [
      "Using matplotlib backend: TkAgg\n",
      "Populating the interactive namespace from numpy and matplotlib\n"
     ]
    }
   ],
   "source": [
    "%pylab\n",
    "\n",
    "import pandas as pd\n",
    "from pandas import DataFrame"
   ]
  },
  {
   "cell_type": "code",
   "execution_count": 2,
   "metadata": {},
   "outputs": [],
   "source": [
    "arr=[\n",
    "-2.2841\n",
    ",\n",
    "6.3281\n",
    ",\n",
    "6.5642\n",
    ",\n",
    "6.7482\n",
    ",\n",
    "8.4245\n",
    ",\n",
    "23.6999\n",
    ",\n",
    "23.1760\n",
    ",\n",
    "26.9056\n",
    ",\n",
    "27.2806\n",
    ",\n",
    "27.5961\n",
    ",\n",
    "27.7170\n",
    ",\n",
    "27.7372\n",
    ",\n",
    "27.7387\n",
    ",\n",
    "27.7394\n",
    ",\n",
    "27.7407\n",
    ",\n",
    "27.7404\n",
    ",\n",
    "27.7404\n",
    ",\n",
    "27.7405\n",
    ",\n",
    "27.7405\n",
    ",\n",
    "27.7404\n",
    ",\n",
    "27.7404\n",
    ",\n",
    "27.7404\n",
    ",\n",
    "27.7404\n",
    ",\n",
    "27.7404\n",
    ",\n",
    "27.7404\n",
    ",\n",
    "27.7404\n",
    ",\n",
    "27.7404\n",
    ",\n",
    "27.7404\n",
    ",\n",
    "27.7404\n",
    ",\n",
    "27.7404\n",
    ",\n",
    "27.7404]"
   ]
  },
  {
   "cell_type": "code",
   "execution_count": 3,
   "metadata": {},
   "outputs": [
    {
     "data": {
      "text/plain": [
       "array([ 1,  2,  3,  4,  5,  6,  7,  8,  9, 10, 11, 12, 13, 14, 15, 16, 17,\n",
       "       18, 19, 20, 21, 22, 23, 24, 25, 26, 27, 28, 29, 30, 31])"
      ]
     },
     "execution_count": 3,
     "metadata": {},
     "output_type": "execute_result"
    }
   ],
   "source": [
    "arr1=np.arange(1,32)\n",
    "arr=np.asarray(arr)\n",
    "arr1.astype(int)"
   ]
  },
  {
   "cell_type": "code",
   "execution_count": 4,
   "metadata": {},
   "outputs": [],
   "source": [
    "df=DataFrame([arr,arr1],index=['psnr','bits'])"
   ]
  },
  {
   "cell_type": "code",
   "execution_count": null,
   "metadata": {},
   "outputs": [],
   "source": []
  },
  {
   "cell_type": "code",
   "execution_count": 5,
   "metadata": {},
   "outputs": [
    {
     "data": {
      "text/html": [
       "<div>\n",
       "<style scoped>\n",
       "    .dataframe tbody tr th:only-of-type {\n",
       "        vertical-align: middle;\n",
       "    }\n",
       "\n",
       "    .dataframe tbody tr th {\n",
       "        vertical-align: top;\n",
       "    }\n",
       "\n",
       "    .dataframe thead th {\n",
       "        text-align: right;\n",
       "    }\n",
       "</style>\n",
       "<table border=\"1\" class=\"dataframe\">\n",
       "  <thead>\n",
       "    <tr style=\"text-align: right;\">\n",
       "      <th></th>\n",
       "      <th>4</th>\n",
       "      <th>5</th>\n",
       "      <th>6</th>\n",
       "      <th>7</th>\n",
       "      <th>8</th>\n",
       "      <th>9</th>\n",
       "      <th>10</th>\n",
       "      <th>11</th>\n",
       "      <th>12</th>\n",
       "      <th>13</th>\n",
       "      <th>14</th>\n",
       "      <th>15</th>\n",
       "      <th>16</th>\n",
       "      <th>17</th>\n",
       "      <th>18</th>\n",
       "      <th>19</th>\n",
       "      <th>20</th>\n",
       "    </tr>\n",
       "  </thead>\n",
       "  <tbody>\n",
       "    <tr>\n",
       "      <th>psnr</th>\n",
       "      <td>8.4245</td>\n",
       "      <td>23.6999</td>\n",
       "      <td>23.176</td>\n",
       "      <td>26.9056</td>\n",
       "      <td>27.2806</td>\n",
       "      <td>27.5961</td>\n",
       "      <td>27.717</td>\n",
       "      <td>27.7372</td>\n",
       "      <td>27.7387</td>\n",
       "      <td>27.7394</td>\n",
       "      <td>27.7407</td>\n",
       "      <td>27.7404</td>\n",
       "      <td>27.7404</td>\n",
       "      <td>27.7405</td>\n",
       "      <td>27.7405</td>\n",
       "      <td>27.7404</td>\n",
       "      <td>27.7404</td>\n",
       "    </tr>\n",
       "    <tr>\n",
       "      <th>bits</th>\n",
       "      <td>5.0000</td>\n",
       "      <td>6.0000</td>\n",
       "      <td>7.000</td>\n",
       "      <td>8.0000</td>\n",
       "      <td>9.0000</td>\n",
       "      <td>10.0000</td>\n",
       "      <td>11.000</td>\n",
       "      <td>12.0000</td>\n",
       "      <td>13.0000</td>\n",
       "      <td>14.0000</td>\n",
       "      <td>15.0000</td>\n",
       "      <td>16.0000</td>\n",
       "      <td>17.0000</td>\n",
       "      <td>18.0000</td>\n",
       "      <td>19.0000</td>\n",
       "      <td>20.0000</td>\n",
       "      <td>21.0000</td>\n",
       "    </tr>\n",
       "  </tbody>\n",
       "</table>\n",
       "</div>"
      ],
      "text/plain": [
       "          4        5       6        7        8        9       10       11  \\\n",
       "psnr  8.4245  23.6999  23.176  26.9056  27.2806  27.5961  27.717  27.7372   \n",
       "bits  5.0000   6.0000   7.000   8.0000   9.0000  10.0000  11.000  12.0000   \n",
       "\n",
       "           12       13       14       15       16       17       18       19  \\\n",
       "psnr  27.7387  27.7394  27.7407  27.7404  27.7404  27.7405  27.7405  27.7404   \n",
       "bits  13.0000  14.0000  15.0000  16.0000  17.0000  18.0000  19.0000  20.0000   \n",
       "\n",
       "           20  \n",
       "psnr  27.7404  \n",
       "bits  21.0000  "
      ]
     },
     "execution_count": 5,
     "metadata": {},
     "output_type": "execute_result"
    }
   ],
   "source": [
    "df.iloc[:,4:21]"
   ]
  },
  {
   "cell_type": "code",
   "execution_count": 6,
   "metadata": {},
   "outputs": [
    {
     "data": {
      "text/plain": [
       "<matplotlib.axes._subplots.AxesSubplot at 0x7f5b0921eac8>"
      ]
     },
     "execution_count": 6,
     "metadata": {},
     "output_type": "execute_result"
    }
   ],
   "source": [
    "df.iloc[:,4:21].T.plot()"
   ]
  },
  {
   "cell_type": "code",
   "execution_count": null,
   "metadata": {},
   "outputs": [],
   "source": []
  }
 ],
 "metadata": {
  "kernelspec": {
   "display_name": "Python 3",
   "language": "python",
   "name": "python3"
  },
  "language_info": {
   "codemirror_mode": {
    "name": "ipython",
    "version": 3
   },
   "file_extension": ".py",
   "mimetype": "text/x-python",
   "name": "python",
   "nbconvert_exporter": "python",
   "pygments_lexer": "ipython3",
   "version": "3.5.2"
  }
 },
 "nbformat": 4,
 "nbformat_minor": 2
}
