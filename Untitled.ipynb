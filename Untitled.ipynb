{
 "cells": [
  {
   "cell_type": "code",
   "execution_count": 1,
   "metadata": {},
   "outputs": [],
   "source": [
    "from __future__ import print_function\n",
    "import argparse,random\n",
    "from math import log10\n",
    "import numpy as np\n",
    "import torch\n",
    "import torch.nn as nn\n",
    "import torch.optim as optim\n",
    "from torch.autograd import Variable\n",
    "from torch.utils.data import DataLoader\n",
    "from data import get_training_set, get_test_set\n",
    "from torch.nn.modules.module import _addindent\n",
    "from model import Net"
   ]
  },
  {
   "cell_type": "code",
   "execution_count": 2,
   "metadata": {},
   "outputs": [],
   "source": [
    "cuda = True\n",
    "if cuda and not torch.cuda.is_available():\n",
    "    raise Exception(\"No GPU found, please run without --cuda\")\n",
    "torch.manual_seed(random.randint(1,1000))\n",
    "if cuda:\n",
    "    torch.cuda.manual_seed(random.randint(1,1000))"
   ]
  },
  {
   "cell_type": "code",
   "execution_count": 3,
   "metadata": {},
   "outputs": [],
   "source": [
    "train_set = get_training_set(2,\"BSDS300\")\n",
    "test_set = get_test_set(2,\"BSDS300\")\n",
    "training_data_loader = DataLoader(dataset=train_set, num_workers=4, batch_size=30, shuffle=True)\n",
    "testing_data_loader = DataLoader(dataset=test_set, num_workers=4, batch_size=30, shuffle=False)"
   ]
  },
  {
   "cell_type": "code",
   "execution_count": 4,
   "metadata": {},
   "outputs": [],
   "source": [
    "model=torch.load('weight')\n",
    "keys=model.keys()"
   ]
  },
  {
   "cell_type": "code",
   "execution_count": 5,
   "metadata": {},
   "outputs": [],
   "source": [
    "idx=0\n",
    "for key in keys:\n",
    "    if idx<5:\n",
    "        temp=model[key].cpu().numpy()\n",
    "        temp=temp[1:64]\n",
    "        model[key]=torch.from_numpy(temp)\n",
    "    idx+=1\n",
    "    \"\"\"\n",
    "    if key[-6:] == 'weight' and flag is False:\n",
    "        flag=True\n",
    "        temp=model[key].cpu().numpy()\n",
    "        temp=temp[1:64]\n",
    "        model[key]=torch.from_numpy(temp)\"\"\"\n"
   ]
  },
  {
   "cell_type": "code",
   "execution_count": 6,
   "metadata": {},
   "outputs": [
    {
     "name": "stderr",
     "output_type": "stream",
     "text": [
      "/usr/local/lib/python3.5/dist-packages/torch/nn/modules/module.py:514: UserWarning: src is not broadcastable to dst, but they have the same number of elements.  Falling back to deprecated pointwise behavior.\n",
      "  own_state[name].copy_(param)\n"
     ]
    }
   ],
   "source": [
    "from model import Net\n",
    "bb=Net(2)\n",
    "bb.conv1 = nn.Conv2d(1, 63, (5, 5), (1, 1), (2, 2))\n",
    "bb.convdw2=nn.Conv2d(63,63,3,1,1,groups=63,bias=True)\n",
    "bb.convpw2=nn.Conv2d(63,64,1,1,0,bias=True)\n",
    "bb.load_state_dict(model)"
   ]
  },
  {
   "cell_type": "code",
   "execution_count": null,
   "metadata": {},
   "outputs": [
    {
     "name": "stdout",
     "output_type": "stream",
     "text": [
      "===> Avg. PSNR: 12.6709 dB\n",
      "===> Avg. PSNR: 12.6709 dB\n",
      "===> Avg. PSNR: 12.6709 dB\n",
      "===> Avg. PSNR: 12.6709 dB\n"
     ]
    }
   ],
   "source": [
    "criterion = nn.MSELoss()\n",
    "def test(epoch):\n",
    "    avg_psnr = 0\n",
    "    for batch in testing_data_loader:\n",
    "        input, target = Variable(batch[0]), Variable(batch[1])\n",
    "        #if cuda:\n",
    "        #    input = input.cuda()\n",
    "        #    target = target.cuda()\n",
    "\n",
    "        prediction = bb(input)\n",
    "        mse = criterion(prediction, target)\n",
    "        psnr = 10 * log10(1 / mse.data[0])\n",
    "        avg_psnr += psnr\n",
    "    print(\"===> Avg. PSNR: {:.4f} dB\".format(avg_psnr / len(testing_data_loader)))\n",
    "\n",
    "\n",
    "\n",
    "for epoch in range(1,10):\n",
    "    test(epoch)"
   ]
  },
  {
   "cell_type": "code",
   "execution_count": null,
   "metadata": {},
   "outputs": [],
   "source": []
  }
 ],
 "metadata": {
  "kernelspec": {
   "display_name": "Python 3",
   "language": "python",
   "name": "python3"
  },
  "language_info": {
   "codemirror_mode": {
    "name": "ipython",
    "version": 3
   },
   "file_extension": ".py",
   "mimetype": "text/x-python",
   "name": "python",
   "nbconvert_exporter": "python",
   "pygments_lexer": "ipython3",
   "version": "3.5.2"
  }
 },
 "nbformat": 4,
 "nbformat_minor": 2
}
