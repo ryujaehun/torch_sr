{
 "cells": [
  {
   "cell_type": "code",
   "execution_count": 1,
   "metadata": {},
   "outputs": [],
   "source": [
    "import torch\n",
    "from torch.autograd import Variable\n",
    "import numpy as np\n",
    "import time, math, glob\n",
    "import scipy.io as sio\n",
    "import matplotlib.pyplot as plt\n",
    "import pandas\n",
    "from pandas import DataFrame"
   ]
  },
  {
   "cell_type": "code",
   "execution_count": 2,
   "metadata": {},
   "outputs": [],
   "source": [
    "count=0\n",
    "model=\"model_epoch_200.pth\"\n",
    "cuda=True\n",
    "scale=2\n",
    "dataset=['Set5_mat','Set14_mat','Urban100_mat','B100_mat']"
   ]
  },
  {
   "cell_type": "code",
   "execution_count": 3,
   "metadata": {},
   "outputs": [],
   "source": [
    "\n",
    "\n",
    "def PSNR(pred, gt, shave_border=0):\n",
    "    height, width = pred.shape[:2]\n",
    "    pred = pred[shave_border:height - shave_border, shave_border:width - shave_border]\n",
    "    gt = gt[shave_border:height - shave_border, shave_border:width - shave_border]\n",
    "    imdff = pred - gt\n",
    "    rmse = math.sqrt(np.mean(imdff ** 2))\n",
    "    if rmse == 0:\n",
    "        return 100\n",
    "    return 20 * math.log10(255.0 / rmse)"
   ]
  },
  {
   "cell_type": "code",
   "execution_count": 4,
   "metadata": {},
   "outputs": [],
   "source": [
    "if cuda and not torch.cuda.is_available():\n",
    "    raise Exception(\"No GPU found, please run without --cuda\")"
   ]
  },
  {
   "cell_type": "code",
   "execution_count": 5,
   "metadata": {},
   "outputs": [
    {
     "name": "stderr",
     "output_type": "stream",
     "text": [
      "/usr/local/lib/python3.5/dist-packages/torch/serialization.py:367: SourceChangeWarning: source code of class 'torch.nn.modules.activation.ReLU' has changed. you can retrieve the original source code by accessing the object's source attribute or set `torch.nn.Module.dump_patches = True` and use the patch tool to revert the changes.\n",
      "  warnings.warn(msg, SourceChangeWarning)\n",
      "/usr/local/lib/python3.5/dist-packages/torch/serialization.py:367: SourceChangeWarning: source code of class 'torch.nn.modules.conv.Conv2d' has changed. you can retrieve the original source code by accessing the object's source attribute or set `torch.nn.Module.dump_patches = True` and use the patch tool to revert the changes.\n",
      "  warnings.warn(msg, SourceChangeWarning)\n",
      "/usr/local/lib/python3.5/dist-packages/torch/serialization.py:367: SourceChangeWarning: source code of class 'torch.nn.modules.pixelshuffle.PixelShuffle' has changed. you can retrieve the original source code by accessing the object's source attribute or set `torch.nn.Module.dump_patches = True` and use the patch tool to revert the changes.\n",
      "  warnings.warn(msg, SourceChangeWarning)\n"
     ]
    }
   ],
   "source": [
    "model = torch.load(model)\n"
   ]
  },
  {
   "cell_type": "code",
   "execution_count": 7,
   "metadata": {},
   "outputs": [],
   "source": [
    "index=['avg_psnr_predicted','avg_psnr_bicubic','avg_elapsed_time']"
   ]
  },
  {
   "cell_type": "code",
   "execution_count": 11,
   "metadata": {},
   "outputs": [
    {
     "data": {
      "text/html": [
       "<div>\n",
       "<style scoped>\n",
       "    .dataframe tbody tr th:only-of-type {\n",
       "        vertical-align: middle;\n",
       "    }\n",
       "\n",
       "    .dataframe tbody tr th {\n",
       "        vertical-align: top;\n",
       "    }\n",
       "\n",
       "    .dataframe thead th {\n",
       "        text-align: right;\n",
       "    }\n",
       "</style>\n",
       "<table border=\"1\" class=\"dataframe\">\n",
       "  <thead>\n",
       "    <tr style=\"text-align: right;\">\n",
       "      <th></th>\n",
       "    </tr>\n",
       "  </thead>\n",
       "  <tbody>\n",
       "    <tr>\n",
       "      <th>avg_psnr_predicted</th>\n",
       "    </tr>\n",
       "    <tr>\n",
       "      <th>avg_psnr_bicubic</th>\n",
       "    </tr>\n",
       "    <tr>\n",
       "      <th>avg_elapsed_time</th>\n",
       "    </tr>\n",
       "  </tbody>\n",
       "</table>\n",
       "</div>"
      ],
      "text/plain": [
       "Empty DataFrame\n",
       "Columns: []\n",
       "Index: [avg_psnr_predicted, avg_psnr_bicubic, avg_elapsed_time]"
      ]
     },
     "execution_count": 11,
     "metadata": {},
     "output_type": "execute_result"
    }
   ],
   "source": [
    "df=DataFrame(index=index)\n",
    "df"
   ]
  },
  {
   "cell_type": "code",
   "execution_count": 12,
   "metadata": {},
   "outputs": [
    {
     "name": "stdout",
     "output_type": "stream",
     "text": [
      "Scale= 2\n",
      "Dataset= Set5\n",
      "PSNR_predicted= 35.29853215378667\n",
      "PSNR_bicubic= 33.6903938129254\n",
      "It takes average 0.003402233123779297s for processing\n",
      "Scale= 2\n",
      "Dataset= Set14\n",
      "PSNR_predicted= 31.658227445992157\n",
      "PSNR_bicubic= 30.33680963944979\n",
      "It takes average 0.0008907999311174665s for processing\n",
      "Scale= 2\n",
      "Dataset= Urban100\n",
      "PSNR_predicted= 28.11708162422167\n",
      "PSNR_bicubic= 26.875190238673994\n",
      "It takes average 0.0008770203590393066s for processing\n",
      "Scale= 2\n",
      "Dataset= B100\n",
      "PSNR_predicted= 30.607541666901888\n",
      "PSNR_bicubic= 29.562051123584215\n",
      "It takes average 0.000772099494934082s for processing\n"
     ]
    }
   ],
   "source": [
    "for i_list in dataset:\n",
    "    image_list = glob.glob(i_list+\"/*.*\")\n",
    "    count=0\n",
    "    avg_psnr_predicted = 0.0\n",
    "    avg_psnr_bicubic = 0.0\n",
    "    avg_elapsed_time = 0.0\n",
    "    for image_name in image_list:\n",
    "        if not 'x'+str(scale) in image_name:\n",
    "            count+=1\n",
    "            continue\n",
    "        im_gt_y = sio.loadmat(image_name)['im_gt_y']\n",
    "        im_b_y = sio.loadmat(image_name)['im_b_y']\n",
    "        im_l_y = sio.loadmat(image_name)['im_l_y']\n",
    "        im_gt_y = im_gt_y.astype(float)\n",
    "        im_b_y = im_b_y.astype(float)\n",
    "        im_l_y = im_l_y.astype(float)\n",
    "        psnr_bicubic = PSNR(im_gt_y, im_b_y,shave_border=scale)\n",
    "        avg_psnr_bicubic += psnr_bicubic\n",
    "        im_input = im_l_y/255.\n",
    "        im_input = Variable(torch.from_numpy(im_input).float()).view(1, -1, im_input.shape[0], im_input.shape[1])\n",
    "        if cuda:\n",
    "            model = model.cuda()\n",
    "            im_input = im_input.cuda()\n",
    "        else:\n",
    "            model = model.cpu()\n",
    "        start_time = time.time()\n",
    "        HR_result = model(im_input)\n",
    "        elapsed_time = time.time() - start_time\n",
    "        avg_elapsed_time += elapsed_time\n",
    "        HR_result = HR_result.cpu()\n",
    "        im_h_y = HR_result.data[0].numpy().astype(np.float32)\n",
    "        im_h_y = im_h_y*255.\n",
    "        im_h_y[im_h_y<0] = 0\n",
    "        im_h_y[im_h_y>255.] = 255.\n",
    "        im_h_y = im_h_y[0,:,:]\n",
    "        psnr_predicted = PSNR(im_gt_y, im_h_y,shave_border=scale)\n",
    "        avg_psnr_predicted += psnr_predicted\n",
    "    print(\"Scale=\", scale)\n",
    "    print(\"Dataset=\", i_list[:-4])\n",
    "    print(\"PSNR_predicted=\", avg_psnr_predicted/(len(image_list)-count))\n",
    "    print(\"PSNR_bicubic=\", avg_psnr_bicubic/(len(image_list)-count))\n",
    "    print(\"It takes average {}s for processing\".format(avg_elapsed_time/(len(image_list)-count)))\n",
    "    df[i_list[:-4]]=[avg_psnr_predicted/(len(image_list)-count),avg_psnr_bicubic/(len(image_list)-count)\n",
    "                    ,avg_elapsed_time/(len(image_list)-count)]\n",
    "df.to_csv('psnr_result.csv', encoding='utf-8')\n",
    "\n",
    "        "
   ]
  },
  {
   "cell_type": "code",
   "execution_count": 13,
   "metadata": {},
   "outputs": [
    {
     "data": {
      "text/html": [
       "<div>\n",
       "<style scoped>\n",
       "    .dataframe tbody tr th:only-of-type {\n",
       "        vertical-align: middle;\n",
       "    }\n",
       "\n",
       "    .dataframe tbody tr th {\n",
       "        vertical-align: top;\n",
       "    }\n",
       "\n",
       "    .dataframe thead th {\n",
       "        text-align: right;\n",
       "    }\n",
       "</style>\n",
       "<table border=\"1\" class=\"dataframe\">\n",
       "  <thead>\n",
       "    <tr style=\"text-align: right;\">\n",
       "      <th></th>\n",
       "      <th>Set5</th>\n",
       "      <th>Set14</th>\n",
       "      <th>Urban100</th>\n",
       "      <th>B100</th>\n",
       "    </tr>\n",
       "  </thead>\n",
       "  <tbody>\n",
       "    <tr>\n",
       "      <th>avg_psnr_predicted</th>\n",
       "      <td>35.298532</td>\n",
       "      <td>31.658227</td>\n",
       "      <td>28.117082</td>\n",
       "      <td>30.607542</td>\n",
       "    </tr>\n",
       "    <tr>\n",
       "      <th>avg_psnr_bicubic</th>\n",
       "      <td>33.690394</td>\n",
       "      <td>30.336810</td>\n",
       "      <td>26.875190</td>\n",
       "      <td>29.562051</td>\n",
       "    </tr>\n",
       "    <tr>\n",
       "      <th>avg_elapsed_time</th>\n",
       "      <td>0.003402</td>\n",
       "      <td>0.000891</td>\n",
       "      <td>0.000877</td>\n",
       "      <td>0.000772</td>\n",
       "    </tr>\n",
       "  </tbody>\n",
       "</table>\n",
       "</div>"
      ],
      "text/plain": [
       "                         Set5      Set14   Urban100       B100\n",
       "avg_psnr_predicted  35.298532  31.658227  28.117082  30.607542\n",
       "avg_psnr_bicubic    33.690394  30.336810  26.875190  29.562051\n",
       "avg_elapsed_time     0.003402   0.000891   0.000877   0.000772"
      ]
     },
     "execution_count": 13,
     "metadata": {},
     "output_type": "execute_result"
    }
   ],
   "source": [
    "df"
   ]
  },
  {
   "cell_type": "code",
   "execution_count": 14,
   "metadata": {},
   "outputs": [],
   "source": [
    "df.to_csv('psnr_result.csv', encoding='utf-8')"
   ]
  },
  {
   "cell_type": "code",
   "execution_count": null,
   "metadata": {},
   "outputs": [],
   "source": []
  }
 ],
 "metadata": {
  "kernelspec": {
   "display_name": "Python 3",
   "language": "python",
   "name": "python3"
  },
  "language_info": {
   "codemirror_mode": {
    "name": "ipython",
    "version": 3
   },
   "file_extension": ".py",
   "mimetype": "text/x-python",
   "name": "python",
   "nbconvert_exporter": "python",
   "pygments_lexer": "ipython3",
   "version": "3.5.2"
  }
 },
 "nbformat": 4,
 "nbformat_minor": 2
}
