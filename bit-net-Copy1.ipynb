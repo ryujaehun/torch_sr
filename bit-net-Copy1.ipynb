{
 "cells": [
  {
   "cell_type": "code",
   "execution_count": 1,
   "metadata": {},
   "outputs": [],
   "source": [
    "from __future__ import print_function\n",
    "import argparse,random\n",
    "from math import log10\n",
    "import numpy as np\n",
    "import torch\n",
    "import torch.nn as nn\n",
    "import torch.optim as optim\n",
    "from torch.autograd import Variable\n",
    "from torch.utils.data import DataLoader\n",
    "from utils.data import get_training_set, get_test_set\n",
    "from torch.nn.modules.module import _addindent\n",
    "from pandas import DataFrame\n",
    "import pandas as pd\n",
    "from collections import OrderedDict\n",
    "from copy import deepcopy\n",
    "import quant"
   ]
  },
  {
   "cell_type": "code",
   "execution_count": 2,
   "metadata": {},
   "outputs": [],
   "source": [
    "# model 1을 사용할시에\n",
    "#from net.model import Net\n",
    "# model 2을 사용할시에\n",
    "from net.model_dw import Net"
   ]
  },
  {
   "cell_type": "code",
   "execution_count": 3,
   "metadata": {},
   "outputs": [],
   "source": [
    "# cuda import\n",
    "cuda = True\n",
    "if cuda and not torch.cuda.is_available():\n",
    "    raise Exception(\"No GPU found, please run without --cuda\")\n",
    "torch.manual_seed(random.randint(1,1000))\n",
    "if cuda:\n",
    "    torch.cuda.manual_seed(random.randint(1,1000))"
   ]
  },
  {
   "cell_type": "code",
   "execution_count": 4,
   "metadata": {},
   "outputs": [],
   "source": [
    "# dataset import\n",
    "train_set = get_training_set(2,\"BSDS300\")\n",
    "test_set = get_test_set(2,\"BSDS300\")\n",
    "training_data_loader = DataLoader(dataset=train_set, num_workers=11, batch_size=16, shuffle=True)\n",
    "testing_data_loader = DataLoader(dataset=test_set, num_workers=10, batch_size=100, shuffle=False)"
   ]
  },
  {
   "cell_type": "code",
   "execution_count": 5,
   "metadata": {},
   "outputs": [],
   "source": [
    "upscale_factor=2\n",
    "train=Net(upscale_factor)\n",
    "weight_name='weight2'"
   ]
  },
  {
   "cell_type": "code",
   "execution_count": 6,
   "metadata": {},
   "outputs": [],
   "source": [
    "# load weigh\n",
    "model=torch.load(weight_name)\n",
    "keys=model.keys()"
   ]
  },
  {
   "cell_type": "markdown",
   "metadata": {},
   "source": [
    "# Architecture\n",
    "___\n",
    "\n",
    "```\n",
    "self.conv1 = nn.Conv2d(1, 64, (5, 5), (1, 1), (2, 2))\n",
    "self.conv2=nn.Conv2d(64, 64, (3, 3), (1, 1), (1, 1))\n",
    "self.conv3=nn.Conv2d(64, 32, (3, 3), (1, 1), (1, 1))\n",
    "self.conv4 = nn.Conv2d(32, upscale_factor ** 2, (3, 3), (1, 1), (1, 1))\n",
    "```\n",
    "\n",
    "<br>\n",
    "<br>\n",
    "__upscale_factor는 2 이다__\n",
    "\n",
    "<br><br>\n",
    "####  weight1 초기 PSNR\n",
    "\n",
    "```\n",
    "===> Avg. PSNR: 27.7404 dB\n",
    "```"
   ]
  },
  {
   "cell_type": "markdown",
   "metadata": {},
   "source": [
    "# Pruning method\n",
    "___\n",
    "\n",
    "1. Pruning을 할 수 있는 spot을 선택 \n",
    "1. 1개를 선택하여 prunging 한 후에 Net의 아키텍쳐를 바꾼다.\n",
    "1. L1 norm 을 기준으로 pruning 한다.\n",
    "1. PSNR 값을 구한다.\n",
    "1. retraining을 진행.\n",
    "1. 반복(일정 PSNR 이하 로 내려가기전까지)\n",
    "\n",
    "\n",
    "\n"
   ]
  },
  {
   "cell_type": "code",
   "execution_count": 7,
   "metadata": {},
   "outputs": [],
   "source": [
    "def bit_truncation(model,bits=8):\n",
    "    quant_method='linear'\n",
    "    overflow_rate=0.0\n",
    "    state_dict = deepcopy(model)\n",
    "    state_dict_quant = OrderedDict()\n",
    "    sf_dict = OrderedDict()\n",
    "    for k, v in state_dict.items():\n",
    "        if bits >=32:\n",
    "            print(\"Ignoring {}\".format(k))\n",
    "            state_dict_quant[k] = v\n",
    "            continue\n",
    "        if quant_method == 'linear':\n",
    "            sf = bits - 1. - quant.compute_integral_part(v, overflow_rate=overflow_rate)\n",
    "            v_quant  = quant.linear_quantize(v, sf, bits=bits)\n",
    "        elif args.quant_method == 'log':\n",
    "            v_quant = quant.log_minmax_quantize(v, bits=bits)\n",
    "        elif args.quant_method == 'minmax':\n",
    "            v_quant = quant.min_max_quantize(v, bits=bits)\n",
    "        else:\n",
    "            v_quant = quant.tanh_quantize(v, bits=bits)\n",
    "        state_dict_quant[k] = v_quant\n",
    "    return state_dict_quant\n",
    "criterion = nn.MSELoss()\n",
    "def PSNR(net):\n",
    "    '''\n",
    "    네트워크 를 받아서 psnr 값을 구하여 반환한다.\n",
    "    테스트 배치 만큼 수행 평균\n",
    "    '''\n",
    "    avg_psnr = 0\n",
    "    for batch in testing_data_loader:\n",
    "        input, target = Variable(batch[0]), Variable(batch[1])\n",
    "        if cuda:\n",
    "            input = input.cuda()\n",
    "            target=target.cuda()\n",
    "        prediction = net(input)\n",
    "        mse = criterion(prediction, target)\n",
    "        psnr = 10 * log10(1 / mse.data[0])\n",
    "        avg_psnr += psnr\n",
    "    return avg_psnr/len(testing_data_loader)\n",
    "def _train(net):\n",
    "    '''\n",
    "    네트워크와 에폭,학습률을 입력 받아 그에 맞게 학습시킨다.\n",
    "    '''\n",
    "    #net=nn.DataParallel(net) 이렇게 하는게 더 느리다 % time으로 확인\n",
    "    optimizer = optim.Adam(net.parameters(), lr=0.005)\n",
    "    epoch_loss = 0\n",
    "    for iteration, batch in enumerate(training_data_loader, 1):\n",
    "        input, target = Variable(batch[0]), Variable(batch[1])\n",
    "        if cuda:\n",
    "            input = input.cuda()\n",
    "            target = target.cuda()\n",
    "        optimizer.zero_grad()\n",
    "        loss = criterion(net(input), target)\n",
    "        epoch_loss += loss.data[0]\n",
    "        loss.backward()\n",
    "        optimizer.step()\n",
    "    #print(\"===> Epoch {} Complete: Avg. Loss: {:.4f}\".format(epoch_loss / len(training_data_loader)))\n",
    "\n",
    "def test(net):\n",
    "    avg_psnr = 0\n",
    "    for batch in testing_data_loader:\n",
    "        input, target = Variable(batch[0]), Variable(batch[1])\n",
    "        if cuda:\n",
    "            net=net.cuda()\n",
    "            input = input.cuda()\n",
    "            target = target.cuda()\n",
    "        prediction = net(input)\n",
    "        mse = criterion(prediction, target)\n",
    "        psnr = 10 * log10(1 / mse.data[0])\n",
    "        avg_psnr += psnr\n",
    "        print(\"===> Avg. PSNR: {:.4f} dB\".format(avg_psnr / len(testing_data_loader)))"
   ]
  },
  {
   "cell_type": "code",
   "execution_count": 8,
   "metadata": {},
   "outputs": [],
   "source": [
    "def bit_truncation(model,bits=8):\n",
    "    quant_method='linear'\n",
    "    overflow_rate=0.0\n",
    "    state_dict = deepcopy(model)\n",
    "    state_dict_quant = OrderedDict()\n",
    "    sf_dict = OrderedDict()\n",
    "    for k, v in state_dict.items():\n",
    "        if bits >=32:\n",
    "            print(\"Ignoring {}\".format(k))\n",
    "            state_dict_quant[k] = v\n",
    "            continue\n",
    "        if quant_method == 'linear':\n",
    "            sf = bits - 1. - quant.compute_integral_part(v, overflow_rate=overflow_rate)\n",
    "            v_quant  = quant.linear_quantize(v, sf, bits=bits)\n",
    "        elif args.quant_method == 'log':\n",
    "            v_quant = quant.log_minmax_quantize(v, bits=bits)\n",
    "        elif args.quant_method == 'minmax':\n",
    "            v_quant = quant.min_max_quantize(v, bits=bits)\n",
    "        else:\n",
    "            v_quant = quant.tanh_quantize(v, bits=bits)\n",
    "        state_dict_quant[k] = v_quant\n",
    "    return state_dict_quant"
   ]
  },
  {
   "cell_type": "code",
   "execution_count": 9,
   "metadata": {},
   "outputs": [
    {
     "name": "stdout",
     "output_type": "stream",
     "text": [
      "학습전\n",
      "===> Avg. PSNR: 27.5622 dB\n",
      "학습후\n",
      "===> Avg. PSNR: 25.0758 dB\n"
     ]
    }
   ],
   "source": [
    "bit=12\n",
    "model=bit_truncation(model,bit)\n",
    "train.load_state_dict(model)\n",
    "print('학습전')\n",
    "test(train)\n",
    "for i in range(100):\n",
    "    _train(train)\n",
    "    model=train.state_dict()\n",
    "    model=bit_truncation(model,bit)\n",
    "    train.load_state_dict(model)\n",
    "print('학습후')\n",
    "test(train)\n"
   ]
  },
  {
   "cell_type": "code",
   "execution_count": 17,
   "metadata": {},
   "outputs": [
    {
     "name": "stdout",
     "output_type": "stream",
     "text": [
      "학습전\n",
      "===> Avg. PSNR: 26.9096 dB\n",
      "학습후\n",
      "===> Avg. PSNR: 26.5956 dB\n"
     ]
    }
   ],
   "source": [
    "model=torch.load(weight_name)\n",
    "bit=8\n",
    "model=bit_truncation(model,bit)\n",
    "train.load_state_dict(model)\n",
    "print('학습전')\n",
    "test(train)\n",
    "for i in range(350):\n",
    "    _train(train)\n",
    "    model=train.state_dict()\n",
    "    model=bit_truncation(model,bit)\n",
    "    train.load_state_dict(model)\n",
    "print('학습후')\n",
    "test(train)"
   ]
  },
  {
   "cell_type": "code",
   "execution_count": null,
   "metadata": {},
   "outputs": [
    {
     "name": "stdout",
     "output_type": "stream",
     "text": [
      "학습전\n",
      "===> Avg. PSNR: 27.5622 dB\n"
     ]
    }
   ],
   "source": [
    "model=torch.load(weight_name)\n",
    "bit=12\n",
    "model=bit_truncation(model,bit)\n",
    "train.load_state_dict(model)\n",
    "print('학습전')\n",
    "test(train)\n",
    "for i in range(400):\n",
    "    _train(train)\n",
    "    model=train.state_dict()\n",
    "    model=bit_truncation(model,bit)\n",
    "    train.load_state_dict(model)\n",
    "print('학습후')\n",
    "test(train)"
   ]
  },
  {
   "cell_type": "code",
   "execution_count": null,
   "metadata": {},
   "outputs": [],
   "source": [
    "model=torch.load(weight_name)\n",
    "bit=12\n",
    "model=bit_truncation(model,bit)\n",
    "train.load_state_dict(model)\n",
    "print('학습전')\n",
    "test(train)\n",
    "for i in range(500):\n",
    "    _train(train)\n",
    "    model=train.state_dict()\n",
    "    model=bit_truncation(model,bit)\n",
    "    train.load_state_dict(model)\n",
    "print('학습후')\n",
    "test(train)"
   ]
  },
  {
   "cell_type": "code",
   "execution_count": null,
   "metadata": {},
   "outputs": [],
   "source": [
    "model=torch.load(weight_name)\n",
    "bit=12\n",
    "model=bit_truncation(model,bit)\n",
    "train.load_state_dict(model)\n",
    "print('학습전')\n",
    "test(train)\n",
    "for i in range(600):\n",
    "    _train(train)\n",
    "    model=train.state_dict()\n",
    "    model=bit_truncation(model,bit)\n",
    "    train.load_state_dict(model)\n",
    "print('학습후')\n",
    "test(train)"
   ]
  },
  {
   "cell_type": "code",
   "execution_count": null,
   "metadata": {},
   "outputs": [],
   "source": [
    "model=torch.load(weight_name)\n",
    "bit=12\n",
    "model=bit_truncation(model,bit)\n",
    "train.load_state_dict(model)\n",
    "print('학습전')\n",
    "test(train)\n",
    "for i in range(700):\n",
    "    _train(train)\n",
    "    model=train.state_dict()\n",
    "    model=bit_truncation(model,bit)\n",
    "    train.load_state_dict(model)\n",
    "print('학습후')\n",
    "test(train)"
   ]
  },
  {
   "cell_type": "code",
   "execution_count": null,
   "metadata": {},
   "outputs": [],
   "source": [
    "model=torch.load(weight_name)\n",
    "bit=12\n",
    "model=bit_truncation(model,bit)\n",
    "train.load_state_dict(model)\n",
    "print('학습전')\n",
    "test(train)\n",
    "for i in range(800):\n",
    "    _train(train)\n",
    "    model=train.state_dict()\n",
    "    model=bit_truncation(model,bit)\n",
    "    train.load_state_dict(model)\n",
    "print('학습후')\n",
    "test(train)"
   ]
  },
  {
   "cell_type": "code",
   "execution_count": null,
   "metadata": {},
   "outputs": [],
   "source": [
    "model=torch.load(weight_name)\n",
    "bit=12\n",
    "model=bit_truncation(model,bit)\n",
    "train.load_state_dict(model)\n",
    "print('학습전')\n",
    "test(train)\n",
    "for i in range(900):\n",
    "    _train(train)\n",
    "    model=train.state_dict()\n",
    "    model=bit_truncation(model,bit)\n",
    "    train.load_state_dict(model)\n",
    "print('학습후')\n",
    "test(train)"
   ]
  },
  {
   "cell_type": "code",
   "execution_count": null,
   "metadata": {},
   "outputs": [],
   "source": [
    "model=torch.load(weight_name)\n",
    "bit=12\n",
    "model=bit_truncation(model,bit)\n",
    "train.load_state_dict(model)\n",
    "print('학습전')\n",
    "test(train)\n",
    "for i in range(1000):\n",
    "    _train(train)\n",
    "    model=train.state_dict()\n",
    "    model=bit_truncation(model,bit)\n",
    "    train.load_state_dict(model)\n",
    "print('학습후')\n",
    "test(train)"
   ]
  },
  {
   "cell_type": "code",
   "execution_count": null,
   "metadata": {},
   "outputs": [],
   "source": [
    "model=torch.load(weight_name)\n",
    "bit=12\n",
    "model=bit_truncation(model,bit)\n",
    "train.load_state_dict(model)\n",
    "print('학습전')\n",
    "test(train)\n",
    "for i in range(1100):\n",
    "    _train(train)\n",
    "    model=train.state_dict()\n",
    "    model=bit_truncation(model,bit)\n",
    "    train.load_state_dict(model)\n",
    "print('학습후')\n",
    "test(train)"
   ]
  },
  {
   "cell_type": "code",
   "execution_count": null,
   "metadata": {},
   "outputs": [],
   "source": [
    "model=torch.load(weight_name)\n",
    "bit=12\n",
    "model=bit_truncation(model,bit)\n",
    "train.load_state_dict(model)\n",
    "print('학습전')\n",
    "test(train)\n",
    "for i in range(1200):\n",
    "    _train(train)\n",
    "    model=train.state_dict()\n",
    "    model=bit_truncation(model,bit)\n",
    "    train.load_state_dict(model)\n",
    "print('학습후')\n",
    "test(train)"
   ]
  },
  {
   "cell_type": "code",
   "execution_count": null,
   "metadata": {},
   "outputs": [],
   "source": [
    "model=torch.load(weight_name)\n",
    "bit=12\n",
    "model=bit_truncation(model,bit)\n",
    "train.load_state_dict(model)\n",
    "print('학습전')\n",
    "test(train)\n",
    "for i in range(1300):\n",
    "    _train(train)\n",
    "    model=train.state_dict()\n",
    "    model=bit_truncation(model,bit)\n",
    "    train.load_state_dict(model)\n",
    "print('학습후')\n",
    "test(train)"
   ]
  },
  {
   "cell_type": "code",
   "execution_count": null,
   "metadata": {},
   "outputs": [],
   "source": [
    "model=torch.load(weight_name)\n",
    "bit=12\n",
    "model=bit_truncation(model,bit)\n",
    "train.load_state_dict(model)\n",
    "print('학습전')\n",
    "test(train)\n",
    "for i in range(1400):\n",
    "    _train(train)\n",
    "    model=train.state_dict()\n",
    "    model=bit_truncation(model,bit)\n",
    "    train.load_state_dict(model)\n",
    "print('학습후')\n",
    "test(train)"
   ]
  },
  {
   "cell_type": "code",
   "execution_count": null,
   "metadata": {},
   "outputs": [],
   "source": [
    "model=torch.load(weight_name)\n",
    "bit=12\n",
    "model=bit_truncation(model,bit)\n",
    "train.load_state_dict(model)\n",
    "print('학습전')\n",
    "test(train)\n",
    "for i in range(1500):\n",
    "    _train(train)\n",
    "    model=train.state_dict()\n",
    "    model=bit_truncation(model,bit)\n",
    "    train.load_state_dict(model)\n",
    "print('학습후')\n",
    "test(train)"
   ]
  },
  {
   "cell_type": "code",
   "execution_count": null,
   "metadata": {},
   "outputs": [],
   "source": [
    "model=torch.load(weight_name)\n",
    "bit=12\n",
    "model=bit_truncation(model,bit)\n",
    "train.load_state_dict(model)\n",
    "print('학습전')\n",
    "test(train)\n",
    "for i in range(1600):\n",
    "    _train(train)\n",
    "    model=train.state_dict()\n",
    "    model=bit_truncation(model,bit)\n",
    "    train.load_state_dict(model)\n",
    "print('학습후')\n",
    "test(train)"
   ]
  },
  {
   "cell_type": "code",
   "execution_count": null,
   "metadata": {},
   "outputs": [],
   "source": [
    "model=torch.load(weight_name)\n",
    "bit=12\n",
    "model=bit_truncation(model,bit)\n",
    "train.load_state_dict(model)\n",
    "print('학습전')\n",
    "test(train)\n",
    "for i in range(1700):\n",
    "    _train(train)\n",
    "    model=train.state_dict()\n",
    "    model=bit_truncation(model,bit)\n",
    "    train.load_state_dict(model)\n",
    "print('학습후')\n",
    "test(train)"
   ]
  },
  {
   "cell_type": "code",
   "execution_count": null,
   "metadata": {},
   "outputs": [],
   "source": [
    "model=torch.load(weight_name)\n",
    "bit=12\n",
    "model=bit_truncation(model,bit)\n",
    "train.load_state_dict(model)\n",
    "print('학습전')\n",
    "test(train)\n",
    "for i in range(1800):\n",
    "    _train(train)\n",
    "    model=train.state_dict()\n",
    "    model=bit_truncation(model,bit)\n",
    "    train.load_state_dict(model)\n",
    "print('학습후')\n",
    "test(train)"
   ]
  },
  {
   "cell_type": "code",
   "execution_count": null,
   "metadata": {},
   "outputs": [],
   "source": [
    "model=torch.load(weight_name)\n",
    "bit=12\n",
    "model=bit_truncation(model,bit)\n",
    "train.load_state_dict(model)\n",
    "print('학습전')\n",
    "test(train)\n",
    "for i in range(1900):\n",
    "    _train(train)\n",
    "    model=train.state_dict()\n",
    "    model=bit_truncation(model,bit)\n",
    "    train.load_state_dict(model)\n",
    "print('학습후')\n",
    "test(train)"
   ]
  },
  {
   "cell_type": "code",
   "execution_count": null,
   "metadata": {},
   "outputs": [],
   "source": [
    "model=torch.load(weight_name)\n",
    "bit=12\n",
    "model=bit_truncation(model,bit)\n",
    "train.load_state_dict(model)\n",
    "print('학습전')\n",
    "test(train)\n",
    "for i in range(2000):\n",
    "    _train(train)\n",
    "    model=train.state_dict()\n",
    "    model=bit_truncation(model,bit)\n",
    "    train.load_state_dict(model)\n",
    "print('학습후')\n",
    "test(train)"
   ]
  },
  {
   "cell_type": "code",
   "execution_count": null,
   "metadata": {},
   "outputs": [],
   "source": []
  }
 ],
 "metadata": {
  "kernelspec": {
   "display_name": "Python 3",
   "language": "python",
   "name": "python3"
  },
  "language_info": {
   "codemirror_mode": {
    "name": "ipython",
    "version": 3
   },
   "file_extension": ".py",
   "mimetype": "text/x-python",
   "name": "python",
   "nbconvert_exporter": "python",
   "pygments_lexer": "ipython3",
   "version": "3.5.2"
  }
 },
 "nbformat": 4,
 "nbformat_minor": 2
}
